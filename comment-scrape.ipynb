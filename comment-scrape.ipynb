{
 "cells": [
  {
   "cell_type": "markdown",
   "metadata": {},
   "source": [
    "Web Scrape for Bilibili, the key is the url, for bilibili it is hidden, luckily people on the internet provides ways to locate it, rest is just simple.\n",
    "\n",
    "Next step is to analyse the data obtained. \n",
    "\n",
    "It would be also needed to have a data pipeline of sorts"
   ]
  },
  {
   "cell_type": "markdown",
   "metadata": {},
   "source": [
    "### 弹幕： 需要 CID 号\n",
    "\n",
    "reference: https://blog.csdn.net/gets_s/article/details/115279029?utm_medium=distribute.pc_relevant.none-task-blog-baidujs_title-1&spm=1001.2101.3001.4242"
   ]
  },
  {
   "cell_type": "code",
   "execution_count": 12,
   "metadata": {},
   "outputs": [
    {
     "name": "stdin",
     "output_type": "stream",
     "text": [
      "请输入你想查询的视频CID号： 333938696\n"
     ]
    }
   ],
   "source": [
    "# -!- coding: utf-8 -!-\n",
    "import requests\n",
    "import re\n",
    "import pandas as pd\n",
    "import string\n",
    "import jieba\n",
    "\n",
    "\n",
    "def get_data(cid):\n",
    "    # 分析网页，并获取网页文件\n",
    "    url = 'https://comment.bilibili.com/{}.xml'.format(cid)\n",
    "    headers = {\n",
    "        \"User-Agent\": \"Mozilla/5.0 (Macintosh; Intel Mac OS X 10_14_5) AppleWebKit/537.36 (KHTML, like Gecko) Chrome/90.0.4430.85 Safari/537.36\"\n",
    "    }\n",
    "    response = requests.get(url,headers = headers).content.decode('utf-8')\n",
    "    return response\n",
    "\n",
    "def parse_html(response):\n",
    "    # 解读网页文件，获取关键信息\n",
    "    pattern = re.compile(r'<d p=\".*?\">(.*?)</d>')\n",
    "    danmuku = re.findall(pattern,response)\n",
    "    return danmuku\n",
    "\n",
    "def save_data(danmuku,cid):\n",
    "    # 保存数据\n",
    "    Dict = {\n",
    "        'danmuku' : danmuku\n",
    "    }\n",
    "    pd_data = pd.DataFrame(Dict)\n",
    "    cid = str(cid)\n",
    "    name = cid + 'danmuku.csv'\n",
    "    path = '/Users/yuf/Desktop/Implementation/Hands Dirty/BIlibili-comment-file/{}'.format(name)\n",
    "    pd_data.to_csv(path,index = False,header=False,mode='w',encoding='utf-8-sig')\n",
    "\n",
    "def data_preprocess(danmuku,cid):\n",
    "    cid = str(cid)\n",
    "    name = cid + 'danmuku.csv'\n",
    "    path = '/Users/yuf/Desktop/Implementation/Hands Dirty/BIlibili-comment-file/{}'.format(name)\n",
    "    with open(path ,mode='r',encoding='utf-8') as f:\n",
    "        # 加载用户自定义字典\n",
    "        jieba.load_userdict (r'D:\\PyCharm\\Program\\pachong\\Day03\\userdict')\n",
    "        reader = f.read().replace('\\n','')\n",
    "        # 加载停用词词表\n",
    "        stopwords = [line.strip() for line in open(r'D:\\PyCharm\\Program\\pachong\\Day03\\stop_wordslst',encoding ='gbk').readlines()]\n",
    "        # 去标点，去数字，去空白\n",
    "        pun_num = string.punctuation + string.digits\n",
    "        table = str.maketrans('','',pun_num)\n",
    "        reader = reader.translate(table)\n",
    "        seg_list = jieba.cut(reader,cut_all=False)\n",
    "        sentence = ''\n",
    "        for word in seg_list:\n",
    "            if word not in stopwords and word.isspace() == False:\n",
    "                sentence += word\n",
    "                sentence += ','\n",
    "        sentence = sentence[:-1]\n",
    "        return sentence\n",
    "\n",
    "def count_words(txt,cid):\n",
    "    cid = str(cid)\n",
    "    name = cid + '弹幕词汇数统计.csv'\n",
    "    path = 'D:\\PyCharm\\Program\\pachong\\Day03\\弹幕数据\\{}'.format(name)\n",
    "    aDict = {}\n",
    "    words = txt.split(',')\n",
    "    for word in words:\n",
    "        aDict[word] = aDict.get(word,0) + 1\n",
    "    pd_count = pd.DataFrame(aDict,index=['times']).T.sort_values('times',ascending=False)\n",
    "    pd_count.to_csv(path)\n",
    "\n",
    "if __name__ == \"__main__\":\n",
    "\n",
    "    cid = int(input('请输入你想查询的视频CID号：'))\n",
    "    response = get_data(cid)\n",
    "    danmuku = parse_html(response)\n",
    "    save_data(danmuku,cid)\n",
    "    #sentence = data_preprocess(danmuku,cid)\n",
    "    #count_words(sentence,cid)"
   ]
  },
  {
   "cell_type": "markdown",
   "metadata": {},
   "source": [
    "### 评论： 需要 OID 号"
   ]
  },
  {
   "cell_type": "code",
   "execution_count": 26,
   "metadata": {},
   "outputs": [],
   "source": [
    "page=3\n",
    "url1 = \"https://api.bilibili.com/x/v2/reply?pn=\"+ str(page)+\"&type=1&oid=545430857&sort=2\""
   ]
  },
  {
   "cell_type": "code",
   "execution_count": 14,
   "metadata": {},
   "outputs": [
    {
     "name": "stdout",
     "output_type": "stream",
     "text": [
      "\n",
      "page: 1\n",
      "当前页面保存完成\n",
      "\n",
      "page: 2\n",
      "当前页面保存完成\n",
      "\n",
      "page: 3\n",
      "当前页面保存完成\n",
      "\n"
     ]
    }
   ],
   "source": [
    "import requests\n",
    "import time\n",
    "from bs4 import BeautifulSoup\n",
    "import json\n",
    "\n",
    "def get_html(url):\n",
    "    headers = {\n",
    "        'accept': 'text/html,application/xhtml+xml,application/xml;q=0.9,image/webp,image/apng,*/*;q=0.8',\n",
    "        'user-agent':  'Mozilla/5.0 (Macintosh; Intel Mac OS X 10_14_5) AppleWebKit/537.36 (KHTML, like Gecko) Chrome/90.0.4430.85 Safari/537.36',\n",
    "    }\n",
    "\n",
    "    r = requests.get(url, timeout=30,headers=headers)\n",
    "    r.raise_for_status()\n",
    "    r.endcodding = 'utf-8'\n",
    "    return r.text\n",
    "\n",
    "\n",
    "def get_content(url):\n",
    "    comments = []\n",
    "    html = get_html(url)\n",
    "    try:\n",
    "        s=json.loads(html)\n",
    "    except:\n",
    "        print(\"jsonload error\")   \n",
    "    num=len(s['data']['replies']) \n",
    "    i=0\n",
    "    while i<num:\n",
    "        comment=s['data']['replies'][i]\n",
    "        InfoDict={}\n",
    "        InfoDict['Uname']=comment['member']['uname']\n",
    "        InfoDict['Like']=comment['like'] \n",
    "        InfoDict['Content']=comment['content']['message'] \n",
    "        InfoDict['Time']=time.strftime(\"%Y-%m-%d %H:%M:%S\",time.localtime(comment['ctime'])) \n",
    "        comments.append(InfoDict)\n",
    "        i=i+1\n",
    "    return comments\n",
    "\n",
    "\n",
    "def Out2File(dict):\n",
    "    with open('BiliBiliComments.txt', 'a+',encoding='utf-8') as f:\n",
    "        i=0\n",
    "        for comment in dict:\n",
    "            i=i+1\n",
    "            try:\n",
    "                f.write('姓名：{}\\t  点赞数：{}\\t \\n 评论内容：{}\\t  评论时间：{}\\t \\n '.format(\n",
    "                    comment['Uname'], comment['Like'], comment['Content'], comment['Time']))\n",
    "                f.write(\"-----------------\\n\")\n",
    "            except:\n",
    "                print(\"out2File error\")\n",
    "        print('当前页面保存完成')\n",
    "\n",
    "if __name__ == '__main__':\n",
    "    e=0\n",
    "    page=1\n",
    "    while e == 0 :\n",
    "        # seems to mimic the request URL for the network 'item' which contains reply\n",
    "        # For instance it reads 'https://api.bilibili.com/x/v2/reply/subject/interaction-status?type=1&oid=545430857'\n",
    "        url = \"https://api.bilibili.com/x/v2/reply?pn=\"+ str(page)+\"&type=1&oid=545430857&sort=2\" \n",
    "        try:\n",
    "            print()\n",
    "            content=get_content(url)\n",
    "            print(\"page:\",page)\n",
    "            Out2File(content)\n",
    "            page=page+1\n",
    "            # 为了降低被封ip的风险，每爬20页便歇5秒。\n",
    "            if page%10 == 0:\n",
    "                time.sleep(5)\n",
    "        except:\n",
    "            e=1"
   ]
  },
  {
   "cell_type": "code",
   "execution_count": 40,
   "metadata": {},
   "outputs": [
    {
     "data": {
      "text/plain": [
       "'我最喜欢看御姐打架嫁了[滑稽]'"
      ]
     },
     "execution_count": 40,
     "metadata": {},
     "output_type": "execute_result"
    }
   ],
   "source": [
    "url = 'https://api.bilibili.com/x/v2/reply/subject/interaction-status?type=1&oid=545430857'\n",
    "headers = {\n",
    "        'accept': 'text/html,application/xhtml+xml,application/xml;q=0.9,image/webp,image/apng,*/*;q=0.8',\n",
    "        'user-agent':  'Mozilla/5.0 (Macintosh; Intel Mac OS X 10_14_5) AppleWebKit/537.36 (KHTML, like Gecko) Chrome/90.0.4430.85 Safari/537.36',\n",
    "    }\n",
    "\n",
    "r = requests.get(url1, timeout=30, headers=headers)\n",
    "r.raise_for_status()\n",
    "r.encodding = 'utf-8'\n",
    "html = r.text\n",
    "\n",
    "s = json.loads(html)\n",
    "s['data']['replies'][0]['content']['message']"
   ]
  },
  {
   "cell_type": "code",
   "execution_count": null,
   "metadata": {},
   "outputs": [],
   "source": []
  }
 ],
 "metadata": {
  "kernelspec": {
   "display_name": "Python 3",
   "language": "python",
   "name": "python3"
  },
  "language_info": {
   "codemirror_mode": {
    "name": "ipython",
    "version": 3
   },
   "file_extension": ".py",
   "mimetype": "text/x-python",
   "name": "python",
   "nbconvert_exporter": "python",
   "pygments_lexer": "ipython3",
   "version": "3.7.7"
  }
 },
 "nbformat": 4,
 "nbformat_minor": 4
}
